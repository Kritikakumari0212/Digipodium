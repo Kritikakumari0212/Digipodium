{
 "cells": [
  {
   "cell_type": "code",
   "execution_count": 2,
   "metadata": {},
   "outputs": [],
   "source": [
    "lbs_info={\n",
    "    'Full name': 'lal bahadur shastri college',\n",
    "    'short name': 'LBS',\n",
    "    'students': 440,\n",
    "    'culture': 'mood kharb bacche'\n",
    "    }"
   ]
  },
  {
   "cell_type": "code",
   "execution_count": 27,
   "metadata": {},
   "outputs": [],
   "source": [
    "Movies={\n",
    "    'suryavansham':{\n",
    "        'sreamed on':'sony max',\n",
    "        'plot':'rich father doesnot like his illiterate son',\n",
    "        'rating':10\n",
    "    },\n",
    "    'ghajini':{\n",
    "        'plot':'Rich person forgets everything after 15mins',\n",
    "        'streamed on':'jio cinema',\n",
    "        'rating':10\n",
    "\n",
    "    },\n",
    "    'housefull':{\n",
    "        'plot':'Too much comedy',\n",
    "        'streamed on':'star gold',\n",
    "        'rating':10\n",
    "    },\n",
    "    'kabhi khushi kabhi gam':{\n",
    "        'plot':'kabhi rona kabhi hasna',\n",
    "        'streamed on':'disney',\n",
    "        'rating':10\n",
    "    }\n",
    "}"
   ]
  },
  {
   "attachments": {},
   "cell_type": "markdown",
   "metadata": {},
   "source": [
    "# adding data\n",
    "syntax\n",
    "dict[key]=value"
   ]
  },
  {
   "cell_type": "code",
   "execution_count": 28,
   "metadata": {},
   "outputs": [],
   "source": [
    "Movies['3 idiots']={\n",
    "    'streamed on':'amazon prime',\n",
    "    'plot':'3 friends in college'\n",
    "}"
   ]
  },
  {
   "cell_type": "code",
   "execution_count": 11,
   "metadata": {},
   "outputs": [
    {
     "data": {
      "text/plain": [
       "{'plot': 'Rich person forgets everything after 15mins',\n",
       " 'streamed on': 'jio cinema',\n",
       " 'rating': 10}"
      ]
     },
     "execution_count": 11,
     "metadata": {},
     "output_type": "execute_result"
    }
   ],
   "source": [
    "#data retrieve\n",
    "Movies['ghajini']"
   ]
  },
  {
   "cell_type": "code",
   "execution_count": 15,
   "metadata": {},
   "outputs": [
    {
     "data": {
      "text/plain": [
       "'3 friends in college'"
      ]
     },
     "execution_count": 15,
     "metadata": {},
     "output_type": "execute_result"
    }
   ],
   "source": [
    "Movies['3 idiots']['plot']"
   ]
  },
  {
   "cell_type": "code",
   "execution_count": 16,
   "metadata": {},
   "outputs": [
    {
     "data": {
      "text/plain": [
       "['suryavansham', 'ghajini', 'housefull', 'kabhi khushi kabhi gam', '3 idiots']"
      ]
     },
     "execution_count": 16,
     "metadata": {},
     "output_type": "execute_result"
    }
   ],
   "source": [
    "#gettig only keys\n",
    "\n",
    "list(Movies.keys())"
   ]
  },
  {
   "cell_type": "code",
   "execution_count": 17,
   "metadata": {},
   "outputs": [
    {
     "data": {
      "text/plain": [
       "[{'sreamed on': 'sony max',\n",
       "  'plot': 'rich father doesnot like his illiterate son',\n",
       "  'rating': 10},\n",
       " {'plot': 'Rich person forgets everything after 15mins',\n",
       "  'streamed on': 'jio cinema',\n",
       "  'rating': 10},\n",
       " {'plot': 'Too much comedy', 'streamed on': 'star gold', 'rating': 10},\n",
       " {'plot': 'kabhi rona kabhi hasna', 'streamed on': 'disney', 'rating': 10},\n",
       " {'streamed on': 'amazon prime', 'plot': '3 friends in college'}]"
      ]
     },
     "execution_count": 17,
     "metadata": {},
     "output_type": "execute_result"
    }
   ],
   "source": [
    "#getting only values\n",
    "\n",
    "list(Movies.values())"
   ]
  },
  {
   "cell_type": "code",
   "execution_count": 18,
   "metadata": {},
   "outputs": [
    {
     "data": {
      "text/plain": [
       "dict_items([('suryavansham', {'sreamed on': 'sony max', 'plot': 'rich father doesnot like his illiterate son', 'rating': 10}), ('ghajini', {'plot': 'Rich person forgets everything after 15mins', 'streamed on': 'jio cinema', 'rating': 10}), ('housefull', {'plot': 'Too much comedy', 'streamed on': 'star gold', 'rating': 10}), ('kabhi khushi kabhi gam', {'plot': 'kabhi rona kabhi hasna', 'streamed on': 'disney', 'rating': 10}), ('3 idiots', {'streamed on': 'amazon prime', 'plot': '3 friends in college'})])"
      ]
     },
     "execution_count": 18,
     "metadata": {},
     "output_type": "execute_result"
    }
   ],
   "source": [
    "#getting both keys and values\n",
    "Movies.items()"
   ]
  },
  {
   "cell_type": "code",
   "execution_count": 22,
   "metadata": {},
   "outputs": [
    {
     "name": "stdout",
     "output_type": "stream",
     "text": [
      "SURYAVANSHAM\n",
      "sreamed on     |sony max\n",
      "plot           |rich father doesnot like his illiterate son\n",
      "rating         |10\n",
      "\n",
      "GHAJINI\n",
      "plot           |Rich person forgets everything after 15mins\n",
      "streamed on    |jio cinema\n",
      "rating         |10\n",
      "\n",
      "HOUSEFULL\n",
      "plot           |Too much comedy\n",
      "streamed on    |star gold\n",
      "rating         |10\n",
      "\n",
      "KABHI KHUSHI KABHI GAM\n",
      "plot           |kabhi rona kabhi hasna\n",
      "streamed on    |disney\n",
      "rating         |10\n",
      "\n",
      "3 IDIOTS\n",
      "streamed on    |amazon prime\n",
      "plot           |3 friends in college\n",
      "\n"
     ]
    }
   ],
   "source": [
    "for title,details in Movies.items():\n",
    "    print(title.upper())\n",
    "    for entry,value in details.items():\n",
    "        print(f'{entry:15}|{value}')\n",
    "    print()"
   ]
  },
  {
   "cell_type": "code",
   "execution_count": 30,
   "metadata": {},
   "outputs": [
    {
     "ename": "KeyError",
     "evalue": "'3 idiots'",
     "output_type": "error",
     "traceback": [
      "\u001b[1;31m---------------------------------------------------------------------------\u001b[0m",
      "\u001b[1;31mKeyError\u001b[0m                                  Traceback (most recent call last)",
      "Cell \u001b[1;32mIn[30], line 1\u001b[0m\n\u001b[1;32m----> 1\u001b[0m Movies\u001b[39m.\u001b[39;49mpop(\u001b[39m'\u001b[39;49m\u001b[39m3 idiots\u001b[39;49m\u001b[39m'\u001b[39;49m)\n\u001b[0;32m      2\u001b[0m \u001b[39mprint\u001b[39m(Movies)\n",
      "\u001b[1;31mKeyError\u001b[0m: '3 idiots'"
     ]
    }
   ],
   "source": [
    "Movies.pop('3 idiots')\n",
    "print(Movies)"
   ]
  },
  {
   "cell_type": "code",
   "execution_count": null,
   "metadata": {},
   "outputs": [],
   "source": []
  }
 ],
 "metadata": {
  "kernelspec": {
   "display_name": "base",
   "language": "python",
   "name": "python3"
  },
  "language_info": {
   "codemirror_mode": {
    "name": "ipython",
    "version": 3
   },
   "file_extension": ".py",
   "mimetype": "text/x-python",
   "name": "python",
   "nbconvert_exporter": "python",
   "pygments_lexer": "ipython3",
   "version": "3.10.10"
  },
  "orig_nbformat": 4
 },
 "nbformat": 4,
 "nbformat_minor": 2
}

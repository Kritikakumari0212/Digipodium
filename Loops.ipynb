{
 "cells": [
  {
   "attachments": {},
   "cell_type": "markdown",
   "metadata": {},
   "source": [
    "# for and while loops\n",
    "for-step based loop \n",
    "\n",
    "\n",
    "for i in range(10):\n",
    "    print(i)\n",
    "- used for\n",
    "    - iterating over a sequence(list,tuple,string)\n",
    "    - iterating over a range\n",
    "\n",
    "while-condition based Look\n",
    "\n",
    "i=0 \n",
    "while i<10:\n",
    "      print(i)\n",
    "      i+=1\n",
    "- used for\n",
    "    - iterating until a condition is Met \n",
    "    - iterating until a condition is no longer Met \n",
    "    - iterating forever(if you dont breakout of it)"
   ]
  },
  {
   "cell_type": "code",
   "execution_count": 2,
   "metadata": {},
   "outputs": [],
   "source": [
    "movies=['shrek','kungfu panda','how to train your dragon','money heist','stanger things','harry potter','pirates of carrebean','my fault','the lion king','DDLJ']"
   ]
  },
  {
   "cell_type": "markdown",
   "metadata": {},
   "source": []
  },
  {
   "cell_type": "code",
   "execution_count": 3,
   "metadata": {},
   "outputs": [
    {
     "name": "stdout",
     "output_type": "stream",
     "text": [
      "total movies=10\n"
     ]
    }
   ],
   "source": [
    "print(f'total movies={len(movies)}')"
   ]
  },
  {
   "cell_type": "code",
   "execution_count": 4,
   "metadata": {},
   "outputs": [
    {
     "name": "stdout",
     "output_type": "stream",
     "text": [
      "shrek\n",
      "kungfu panda\n",
      "how to train your dragon\n",
      "money heist\n",
      "stanger things\n",
      "harry potter\n",
      "pirates of carrebean\n",
      "my fault\n",
      "the lion king\n",
      "DDLJ\n"
     ]
    }
   ],
   "source": [
    "for movie in movies:\n",
    "    print(movie)"
   ]
  },
  {
   "cell_type": "code",
   "execution_count": 5,
   "metadata": {},
   "outputs": [
    {
     "name": "stdout",
     "output_type": "stream",
     "text": [
      "shrek 5\n",
      "kungfu panda 12\n",
      "how to train your dragon 24\n",
      "money heist 11\n",
      "stanger things 14\n",
      "harry potter 12\n",
      "pirates of carrebean 20\n",
      "my fault 8\n",
      "the lion king 13\n",
      "DDLJ 4\n"
     ]
    }
   ],
   "source": [
    "for movie in movies:\n",
    "    print(movie,len(movie))"
   ]
  },
  {
   "cell_type": "code",
   "execution_count": 9,
   "metadata": {},
   "outputs": [
    {
     "name": "stdout",
     "output_type": "stream",
     "text": [
      "shrek                               5\n",
      "kungfu panda                        12\n",
      "how to train your dragon            24\n",
      "money heist                         11\n",
      "stanger things                      14\n",
      "harry potter                        12\n",
      "pirates of carrebean                20\n",
      "my fault                            8\n",
      "the lion king                       13\n",
      "DDLJ                                4\n"
     ]
    }
   ],
   "source": [
    "for movie in movies:\n",
    "    print(f'{movie:35} {len(movie)}')"
   ]
  },
  {
   "cell_type": "code",
   "execution_count": 12,
   "metadata": {},
   "outputs": [
    {
     "name": "stdout",
     "output_type": "stream",
     "text": [
      "32 = 1024\n",
      "34 = 1156\n",
      "56 = 3136\n",
      "78 = 6084\n",
      "32 = 1024\n",
      "45 = 2025\n",
      "6 = 36\n",
      "7 = 49\n",
      "8 = 64\n",
      "2 = 4\n"
     ]
    }
   ],
   "source": [
    "nums=[32,34,56,78,32,45,6,7,8,2]\n",
    "for i in nums:\n",
    "    print(i,'=',i**2)"
   ]
  },
  {
   "cell_type": "code",
   "execution_count": 13,
   "metadata": {},
   "outputs": [
    {
     "name": "stdout",
     "output_type": "stream",
     "text": [
      "32 = 1024\n",
      "34 = 1156\n",
      "56 = 3136\n",
      "78 = 6084\n",
      "32 = 1024\n",
      "6 = 36\n",
      "8 = 64\n",
      "2 = 4\n"
     ]
    }
   ],
   "source": [
    "for i in nums:\n",
    "    if i%2==0:\n",
    "        print(i,'=',i**2)"
   ]
  },
  {
   "cell_type": "code",
   "execution_count": 17,
   "metadata": {},
   "outputs": [
    {
     "name": "stdout",
     "output_type": "stream",
     "text": [
      "45 = 2025\n",
      "7 = 49\n"
     ]
    }
   ],
   "source": [
    "for i in nums:\n",
    "    if i%2!=0:\n",
    "        print(i,'=',i**2)\n"
   ]
  },
  {
   "cell_type": "code",
   "execution_count": 18,
   "metadata": {},
   "outputs": [
    {
     "name": "stdout",
     "output_type": "stream",
     "text": [
      "248\n"
     ]
    }
   ],
   "source": [
    "total_evens=0\n",
    "for i in nums:\n",
    "    if i%2==0:\n",
    "        total_evens += i\n",
    "print(total_evens)"
   ]
  },
  {
   "cell_type": "code",
   "execution_count": 19,
   "metadata": {},
   "outputs": [
    {
     "name": "stdout",
     "output_type": "stream",
     "text": [
      "32\n",
      "34\n",
      "56\n",
      "78\n"
     ]
    }
   ],
   "source": [
    "for i in nums:\n",
    "    print(i)\n",
    "    if i>60:\n",
    "        break"
   ]
  },
  {
   "cell_type": "code",
   "execution_count": 24,
   "metadata": {},
   "outputs": [
    {
     "name": "stdout",
     "output_type": "stream",
     "text": [
      "apple\n",
      "orange\n"
     ]
    }
   ],
   "source": [
    "x=[\"apple\",\"orange\",'',\"banana\",\"cherry\",\"mango\"]\n",
    "for item in x:\n",
    "    if len(item)==0:\n",
    "    #if not item\n",
    "        break\n",
    "    print(item)"
   ]
  },
  {
   "cell_type": "code",
   "execution_count": null,
   "metadata": {},
   "outputs": [],
   "source": []
  },
  {
   "cell_type": "code",
   "execution_count": 2,
   "metadata": {},
   "outputs": [
    {
     "name": "stdout",
     "output_type": "stream",
     "text": [
      "invalid username/password\n",
      "invalid username/password\n",
      "invalid username/password\n",
      "too many errors\n"
     ]
    }
   ],
   "source": [
    "errors=0\n",
    "while True:\n",
    "    username=input(\"enter username=\")\n",
    "    password=input(\"enter password=\")\n",
    "    if username=='admin'and password=='secret':\n",
    "        print('login sucessful')\n",
    "        break\n",
    "    elif errors==3:\n",
    "        print(\"too many errors\")\n",
    "        break\n",
    "    else:\n",
    "        print(\"invalid username/password\")\n",
    "        errors+=1"
   ]
  },
  {
   "cell_type": "code",
   "execution_count": 1,
   "metadata": {},
   "outputs": [],
   "source": [
    "x=[\n",
    "    ['Warbreaker',4999],\n",
    "    ['the way of kings',5999],\n",
    "    ['words of radiance',5999],\n",
    "    ['Oathbringer',5999],\n",
    "    ['Rhythm of war',5999],\n",
    "]"
   ]
  },
  {
   "cell_type": "code",
   "execution_count": 2,
   "metadata": {},
   "outputs": [
    {
     "name": "stdout",
     "output_type": "stream",
     "text": [
      "['Warbreaker', 4999]\n",
      "['the way of kings', 5999]\n",
      "['words of radiance', 5999]\n",
      "['Oathbringer', 5999]\n",
      "['Rhythm of war', 5999]\n"
     ]
    }
   ],
   "source": [
    "for item in x:\n",
    "    print(item)"
   ]
  },
  {
   "cell_type": "code",
   "execution_count": 5,
   "metadata": {},
   "outputs": [
    {
     "name": "stdout",
     "output_type": "stream",
     "text": [
      "Warbreaker\n",
      "4999\n",
      "---\n",
      "the way of kings\n",
      "5999\n",
      "---\n",
      "words of radiance\n",
      "5999\n",
      "---\n",
      "Oathbringer\n",
      "5999\n",
      "---\n",
      "Rhythm of war\n",
      "5999\n",
      "---\n"
     ]
    }
   ],
   "source": [
    "for item in x:\n",
    "    for data in item:\n",
    "        print(data)\n",
    "    print('---')    "
   ]
  },
  {
   "cell_type": "code",
   "execution_count": null,
   "metadata": {},
   "outputs": [],
   "source": []
  }
 ],
 "metadata": {
  "kernelspec": {
   "display_name": "base",
   "language": "python",
   "name": "python3"
  },
  "language_info": {
   "codemirror_mode": {
    "name": "ipython",
    "version": 3
   },
   "file_extension": ".py",
   "mimetype": "text/x-python",
   "name": "python",
   "nbconvert_exporter": "python",
   "pygments_lexer": "ipython3",
   "version": "3.10.10"
  },
  "orig_nbformat": 4
 },
 "nbformat": 4,
 "nbformat_minor": 2
}

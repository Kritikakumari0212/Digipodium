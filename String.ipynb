{
 "cells": [
  {
   "cell_type": "code",
   "execution_count": 2,
   "metadata": {},
   "outputs": [
    {
     "name": "stdout",
     "output_type": "stream",
     "text": [
      "1\n"
     ]
    }
   ],
   "source": [
    "#String is a sequence of characters\n",
    "\n",
    "#Initialise the string\n",
    "\n",
    "s=''\n",
    "b=1\n",
    "print(str(b))"
   ]
  },
  {
   "cell_type": "code",
   "execution_count": 7,
   "metadata": {},
   "outputs": [
    {
     "name": "stdout",
     "output_type": "stream",
     "text": [
      "14\n",
      "m\n",
      "u\n",
      "0 k\n",
      "1 r\n",
      "2 i\n",
      "3 t\n",
      "4 i\n",
      "5 k\n",
      "6 a\n",
      "7  \n",
      "8 k\n",
      "9 u\n",
      "10 m\n",
      "11 a\n",
      "12 r\n",
      "13 i\n"
     ]
    }
   ],
   "source": [
    "s='kritika kumari'\n",
    "print(len(s))\n",
    "print(s[10])\n",
    "print(s[-5])\n",
    "for i in range(len(s)):\n",
    "    print(i,s[i])"
   ]
  },
  {
   "cell_type": "code",
   "execution_count": 10,
   "metadata": {},
   "outputs": [
    {
     "name": "stdout",
     "output_type": "stream",
     "text": [
      "kritika kumari\n",
      "kriti\n",
      "tika kumari\n"
     ]
    }
   ],
   "source": [
    "s='kritika kumari'\n",
    "print(s[:])\n",
    "print(s[:5])\n",
    "print(s[3:])"
   ]
  },
  {
   "cell_type": "code",
   "execution_count": 7,
   "metadata": {},
   "outputs": [
    {
     "name": "stdout",
     "output_type": "stream",
     "text": [
      "Life before Death\n"
     ]
    }
   ],
   "source": [
    "msg='Life before Death, Strenth before weakness, Journey before Destination.'\n",
    "print(msg[:17])"
   ]
  },
  {
   "attachments": {},
   "cell_type": "markdown",
   "metadata": {},
   "source": []
  },
  {
   "cell_type": "code",
   "execution_count": 8,
   "metadata": {},
   "outputs": [
    {
     "name": "stdout",
     "output_type": "stream",
     "text": [
      "71\n"
     ]
    }
   ],
   "source": [
    "print(len(msg))"
   ]
  },
  {
   "cell_type": "code",
   "execution_count": 9,
   "metadata": {},
   "outputs": [
    {
     "data": {
      "text/plain": [
       "['Life',\n",
       " 'before',\n",
       " 'Death,',\n",
       " 'Strenth',\n",
       " 'before',\n",
       " 'weakness,',\n",
       " 'Journey',\n",
       " 'before',\n",
       " 'Destination.']"
      ]
     },
     "execution_count": 9,
     "metadata": {},
     "output_type": "execute_result"
    }
   ],
   "source": [
    "msg.split()"
   ]
  },
  {
   "cell_type": "code",
   "execution_count": 10,
   "metadata": {},
   "outputs": [
    {
     "data": {
      "text/plain": [
       "['Life before Death',\n",
       " ' Strenth before weakness',\n",
       " ' Journey before Destination.']"
      ]
     },
     "execution_count": 10,
     "metadata": {},
     "output_type": "execute_result"
    }
   ],
   "source": [
    "msg.split(',')"
   ]
  },
  {
   "cell_type": "code",
   "execution_count": 23,
   "metadata": {},
   "outputs": [
    {
     "name": "stdout",
     "output_type": "stream",
     "text": [
      "rain rain go away, \n",
      "come again another day, \n",
      "little johny wants to play, \n",
      "rain rain go away\n",
      "-x--x--x--x--x--x--x--x--x--x-\n",
      "91 num of characters\n",
      "17 num of words\n",
      "4 num of lines\n"
     ]
    }
   ],
   "source": [
    "poem='''rain rain go away, \n",
    "come again another day, \n",
    "little johny wants to play, \n",
    "rain rain go away'''\n",
    "print(poem)\n",
    "print('-x-'*10)\n",
    "print(len(poem),'num of characters')\n",
    "print(len(poem.split()),'num of words')\n",
    "print(len(poem.splitlines()),'num of lines')"
   ]
  },
  {
   "cell_type": "code",
   "execution_count": 17,
   "metadata": {},
   "outputs": [
    {
     "name": "stdout",
     "output_type": "stream",
     "text": [
      "rain rain go away,\n"
     ]
    }
   ],
   "source": [
    "print(poem[:18])"
   ]
  },
  {
   "cell_type": "code",
   "execution_count": 28,
   "metadata": {},
   "outputs": [
    {
     "data": {
      "text/plain": [
       "5"
      ]
     },
     "execution_count": 28,
     "metadata": {},
     "output_type": "execute_result"
    }
   ],
   "source": [
    "poem.count('in')"
   ]
  },
  {
   "cell_type": "code",
   "execution_count": 31,
   "metadata": {},
   "outputs": [
    {
     "name": "stdout",
     "output_type": "stream",
     "text": [
      "RAIN RAIN GO AWAY, \n",
      "COME AGAIN ANOTHER DAY, \n",
      "LITTLE JOHNY WANTS TO PLAY, \n",
      "RAIN RAIN GO AWAY\n",
      "rain rain go away, \n",
      "come again another day, \n",
      "little johny wants to play, \n",
      "rain rain go away\n",
      "Rain Rain Go Away, \n",
      "Come Again Another Day, \n",
      "Little Johny Wants To Play, \n",
      "Rain Rain Go Away\n",
      "Rain rain go away, \n",
      "come again another day, \n",
      "little johny wants to play, \n",
      "rain rain go away\n",
      "RAIN RAIN GO AWAY, \n",
      "COME AGAIN ANOTHER DAY, \n",
      "LITTLE JOHNY WANTS TO PLAY, \n",
      "RAIN RAIN GO AWAY\n"
     ]
    }
   ],
   "source": [
    "print(poem.upper())\n",
    "print(poem.lower())\n",
    "print(poem.title())\n",
    "print(poem.capitalize())\n",
    "print(poem.swapcase())"
   ]
  },
  {
   "cell_type": "code",
   "execution_count": 35,
   "metadata": {},
   "outputs": [
    {
     "name": "stdout",
     "output_type": "stream",
     "text": [
      "apple False\n",
      "apple True\n",
      "apple True\n"
     ]
    }
   ],
   "source": [
    "a='apple'\n",
    "b='290'\n",
    "c='apple100'\n",
    "print(a, a.isnumeric()) #check if all characters are numeric\n",
    "print(a, a.isalpha()) #check if all characters are alphabets\n",
    "print(a, a.isalnum()) #check if all characters are alphanumeric"
   ]
  },
  {
   "cell_type": "code",
   "execution_count": 38,
   "metadata": {},
   "outputs": [
    {
     "name": "stdout",
     "output_type": "stream",
     "text": [
      "pain pain go away, \n",
      "come again another day, \n",
      "little johny wants to play, \n",
      "pain pain go away\n"
     ]
    }
   ],
   "source": [
    "print(poem.replace('rain','pain'))\n",
    "\n",
    "\n"
   ]
  },
  {
   "cell_type": "code",
   "execution_count": 39,
   "metadata": {},
   "outputs": [
    {
     "name": "stdout",
     "output_type": "stream",
     "text": [
      "rasun rasun go away, \n",
      "come agasun another day, \n",
      "little johny wants to play, \n",
      "rasun rasun go away\n"
     ]
    }
   ],
   "source": [
    "print(poem.replace('in','sun'))"
   ]
  },
  {
   "cell_type": "code",
   "execution_count": null,
   "metadata": {},
   "outputs": [],
   "source": []
  }
 ],
 "metadata": {
  "kernelspec": {
   "display_name": "base",
   "language": "python",
   "name": "python3"
  },
  "language_info": {
   "codemirror_mode": {
    "name": "ipython",
    "version": 3
   },
   "file_extension": ".py",
   "mimetype": "text/x-python",
   "name": "python",
   "nbconvert_exporter": "python",
   "pygments_lexer": "ipython3",
   "version": "3.10.10"
  },
  "orig_nbformat": 4
 },
 "nbformat": 4,
 "nbformat_minor": 2
}

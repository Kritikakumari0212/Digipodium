{
 "cells": [
  {
   "cell_type": "code",
   "execution_count": 2,
   "metadata": {},
   "outputs": [
    {
     "name": "stdout",
     "output_type": "stream",
     "text": [
      "1\n"
     ]
    }
   ],
   "source": [
    "#String is a sequence of characters\n",
    "\n",
    "#Initialise the string\n",
    "\n",
    "s=''\n",
    "b=1\n",
    "print(str(b))"
   ]
  },
  {
   "cell_type": "code",
   "execution_count": 7,
   "metadata": {},
   "outputs": [
    {
     "name": "stdout",
     "output_type": "stream",
     "text": [
      "14\n",
      "m\n",
      "u\n",
      "0 k\n",
      "1 r\n",
      "2 i\n",
      "3 t\n",
      "4 i\n",
      "5 k\n",
      "6 a\n",
      "7  \n",
      "8 k\n",
      "9 u\n",
      "10 m\n",
      "11 a\n",
      "12 r\n",
      "13 i\n"
     ]
    }
   ],
   "source": [
    "s='kritika kumari'\n",
    "print(len(s))\n",
    "print(s[10])\n",
    "print(s[-5])\n",
    "for i in range(len(s)):\n",
    "    print(i,s[i])"
   ]
  },
  {
   "cell_type": "code",
   "execution_count": 10,
   "metadata": {},
   "outputs": [
    {
     "name": "stdout",
     "output_type": "stream",
     "text": [
      "kritika kumari\n",
      "kriti\n",
      "tika kumari\n"
     ]
    }
   ],
   "source": [
    "s='kritika kumari'\n",
    "print(s[:])\n",
    "print(s[:5])\n",
    "print(s[3:])"
   ]
  },
  {
   "cell_type": "code",
   "execution_count": null,
   "metadata": {},
   "outputs": [],
   "source": []
  }
 ],
 "metadata": {
  "kernelspec": {
   "display_name": "base",
   "language": "python",
   "name": "python3"
  },
  "language_info": {
   "codemirror_mode": {
    "name": "ipython",
    "version": 3
   },
   "file_extension": ".py",
   "mimetype": "text/x-python",
   "name": "python",
   "nbconvert_exporter": "python",
   "pygments_lexer": "ipython3",
   "version": "3.10.10"
  },
  "orig_nbformat": 4
 },
 "nbformat": 4,
 "nbformat_minor": 2
}

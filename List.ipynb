{
 "cells": [
  {
   "attachments": {},
   "cell_type": "markdown",
   "metadata": {},
   "source": [
    "#defining list in python-\n",
    "#list of strings\n",
    "\n",
    "list1=[\"Nikhlesh\",\"Aman\",\"Rahul\",\"Devansh\",\"Rishabh\"]\n",
    "\n",
    "#list of numbers\n",
    "\n",
    "list2=[1,2,3,4,5,6,7]\n",
    "\n",
    "#list data list\n",
    "\n",
    "list3=[\"ravi\",1,\"false\",5.76]\n",
    "\n",
    "#nested list\n",
    "\n",
    "list4=[[1,2,3],[5,6,7]]\n",
    "\n"
   ]
  },
  {
   "cell_type": "code",
   "execution_count": 1,
   "metadata": {},
   "outputs": [],
   "source": [
    "#defining list in python-\n",
    "#list of strings\n",
    "\n",
    "list1=[\"Nikhlesh\",\"Aman\",\"Rahul\",\"Devansh\",\"Rishabh\"]\n",
    "\n",
    "#list of numbers\n",
    "\n",
    "list2=[1,2,3,4,5,6,7]\n",
    "\n",
    "#list data list\n",
    "\n",
    "list3=[\"ravi\",1,\"false\",5.76]\n",
    "\n",
    "#nested list\n",
    "\n",
    "list4=[[1,2,3],[5,6,7]]"
   ]
  },
  {
   "cell_type": "code",
   "execution_count": 11,
   "metadata": {},
   "outputs": [
    {
     "name": "stdout",
     "output_type": "stream",
     "text": [
      "[70, 80]\n",
      "[10, 20, 30, 40, 50]\n",
      "[10, 20, 30, 40, 50]\n",
      "[50, 60, 70, 80, 90, 100]\n",
      "[60, 70, 80, 90, 100]\n",
      "[50, 60]\n"
     ]
    }
   ],
   "source": [
    "l=[10,20,30,40,50,60,70,80,90,100]\n",
    "slice1=l[-4:-2]\n",
    "slice2=l[0:5]\n",
    "slice3=l[:5]\n",
    "slice4=l[4:]\n",
    "slice5=l[5:len(l)]\n",
    "slice6=l[4:-4]\n",
    "print(slice1)\n",
    "print(slice2)\n",
    "print(slice3)\n",
    "print(slice4)\n",
    "print(slice5)\n",
    "print(slice6)\n"
   ]
  },
  {
   "cell_type": "code",
   "execution_count": 19,
   "metadata": {},
   "outputs": [
    {
     "name": "stdout",
     "output_type": "stream",
     "text": [
      "[1, 2, 3, 'a', 'e', 'b', 'c', 'd']\n"
     ]
    }
   ],
   "source": [
    "list1=[1,2,3,'a','b']\n",
    "list1.append('c')\n",
    "list1.append('d')\n",
    "list1.insert(-3,'e')\n",
    "print(list1)"
   ]
  },
  {
   "cell_type": "code",
   "execution_count": 18,
   "metadata": {},
   "outputs": [
    {
     "name": "stdout",
     "output_type": "stream",
     "text": [
      "[1, 2, 3, 'uday', 'vikram singh']\n",
      "[1, 'python', 2, 3, 'uday', 'vikram singh']\n"
     ]
    }
   ],
   "source": [
    "arr=[1,2,3,'uday']\n",
    "arr.append('vikram singh')\n",
    "print(arr)\n",
    "arr.insert(1,'python')\n",
    "print(arr)\n"
   ]
  },
  {
   "cell_type": "code",
   "execution_count": 7,
   "metadata": {},
   "outputs": [
    {
     "name": "stdout",
     "output_type": "stream",
     "text": [
      "3\n"
     ]
    }
   ],
   "source": [
    "print(arr.pop())"
   ]
  },
  {
   "cell_type": "code",
   "execution_count": 11,
   "metadata": {},
   "outputs": [
    {
     "name": "stdout",
     "output_type": "stream",
     "text": [
      "vikram singh\n",
      "[1, 2, 3, 'uday']\n"
     ]
    }
   ],
   "source": [
    "x=arr.pop()\n",
    "arr.pop(1)\n",
    "print(x)\n",
    "print(arr)"
   ]
  },
  {
   "cell_type": "code",
   "execution_count": 19,
   "metadata": {},
   "outputs": [
    {
     "name": "stdout",
     "output_type": "stream",
     "text": [
      "[1, 'python', 2, 3, 'vikram singh']\n"
     ]
    }
   ],
   "source": [
    "(arr.remove(\"uday\"))\n",
    "print(arr)"
   ]
  },
  {
   "cell_type": "code",
   "execution_count": 30,
   "metadata": {},
   "outputs": [
    {
     "name": "stdout",
     "output_type": "stream",
     "text": [
      "1000\n",
      "-1\n",
      "[456, 0, -1, 1000, 6, 5, 4, 3, 2, 5, 2, 1, 1, 1, 1]\n",
      "[1, 1, 1, 1, 2, 5, 2, 3, 4, 5, 6, 1000, -1, 0, 456]\n",
      "4\n",
      "[1000, 456, 6, 5, 5, 4, 3, 2, 2, 1, 1, 1, 1, 0, -1]\n",
      "[1, 2, 3]\n"
     ]
    }
   ],
   "source": [
    "arr1=[1,1,1,1,2,5,2,3,4,5,6,1000,-1,0,456]\n",
    "print(max(arr1))\n",
    "print(min(arr1))\n",
    "#Reverse\n",
    "arr1.reverse()\n",
    "print(arr1)\n",
    "print(arr1[::-1])\n",
    "print(arr1.count(1))\n",
    "#arr1.sort() #ascending\n",
    "arr1.sort(reverse=True) #descending\n",
    "print(arr1)\n",
    "\n"
   ]
  },
  {
   "cell_type": "code",
   "execution_count": 36,
   "metadata": {},
   "outputs": [
    {
     "name": "stdout",
     "output_type": "stream",
     "text": [
      "[1, 2, 3, 4, [4, 5, 6], 3, 444, 5, 6, 6565, 324, 45345, 868687, 342, 332, 0]\n"
     ]
    }
   ],
   "source": [
    "#Extend\n",
    "arr=[1,2,3]\n",
    "arr.append(4)\n",
    "arr.append([4,5,6])\n",
    "arr.extend([3,444,5,6,6565,324,45345,868687,342,332,000])\n",
    "# arr.extend(1)\n",
    "print(arr)"
   ]
  },
  {
   "cell_type": "code",
   "execution_count": 37,
   "metadata": {},
   "outputs": [
    {
     "name": "stdout",
     "output_type": "stream",
     "text": [
      "kashika\n",
      "Kashika\n"
     ]
    }
   ],
   "source": [
    "arr=['kashika','Kashika'] #on the basis of ascii code\n",
    "print(max(arr))\n",
    "print(min(arr))"
   ]
  }
 ],
 "metadata": {
  "kernelspec": {
   "display_name": "base",
   "language": "python",
   "name": "python3"
  },
  "language_info": {
   "codemirror_mode": {
    "name": "ipython",
    "version": 3
   },
   "file_extension": ".py",
   "mimetype": "text/x-python",
   "name": "python",
   "nbconvert_exporter": "python",
   "pygments_lexer": "ipython3",
   "version": "3.10.10"
  },
  "orig_nbformat": 4
 },
 "nbformat": 4,
 "nbformat_minor": 2
}

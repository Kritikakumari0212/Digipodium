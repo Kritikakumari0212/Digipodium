{
 "cells": [
  {
   "attachments": {},
   "cell_type": "markdown",
   "metadata": {},
   "source": [
    "#defining list in python-\n",
    "#list of strings\n",
    "\n",
    "list1=[\"Nikhlesh\",\"Aman\",\"Rahul\",\"Devansh\",\"Rishabh\"]\n",
    "\n",
    "#list of numbers\n",
    "\n",
    "list2=[1,2,3,4,5,6,7]\n",
    "\n",
    "#list data list\n",
    "\n",
    "list3=[\"ravi\",1,\"false\",5.76]\n",
    "\n",
    "#nested list\n",
    "\n",
    "list4=[[1,2,3],[5,6,7]]\n",
    "\n"
   ]
  },
  {
   "cell_type": "code",
   "execution_count": 1,
   "metadata": {},
   "outputs": [],
   "source": [
    "#defining list in python-\n",
    "#list of strings\n",
    "\n",
    "list1=[\"Nikhlesh\",\"Aman\",\"Rahul\",\"Devansh\",\"Rishabh\"]\n",
    "\n",
    "#list of numbers\n",
    "\n",
    "list2=[1,2,3,4,5,6,7]\n",
    "\n",
    "#list data list\n",
    "\n",
    "list3=[\"ravi\",1,\"false\",5.76]\n",
    "\n",
    "#nested list\n",
    "\n",
    "list4=[[1,2,3],[5,6,7]]"
   ]
  },
  {
   "cell_type": "code",
   "execution_count": 11,
   "metadata": {},
   "outputs": [
    {
     "name": "stdout",
     "output_type": "stream",
     "text": [
      "[70, 80]\n",
      "[10, 20, 30, 40, 50]\n",
      "[10, 20, 30, 40, 50]\n",
      "[50, 60, 70, 80, 90, 100]\n",
      "[60, 70, 80, 90, 100]\n",
      "[50, 60]\n"
     ]
    }
   ],
   "source": [
    "l=[10,20,30,40,50,60,70,80,90,100]\n",
    "slice1=l[-4:-2]\n",
    "slice2=l[0:5]\n",
    "slice3=l[:5]\n",
    "slice4=l[4:]\n",
    "slice5=l[5:len(l)]\n",
    "slice6=l[4:-4]\n",
    "print(slice1)\n",
    "print(slice2)\n",
    "print(slice3)\n",
    "print(slice4)\n",
    "print(slice5)\n",
    "print(slice6)\n"
   ]
  },
  {
   "cell_type": "code",
   "execution_count": 19,
   "metadata": {},
   "outputs": [
    {
     "name": "stdout",
     "output_type": "stream",
     "text": [
      "[1, 2, 3, 'a', 'e', 'b', 'c', 'd']\n"
     ]
    }
   ],
   "source": [
    "list1=[1,2,3,'a','b']\n",
    "list1.append('c')\n",
    "list1.append('d')\n",
    "list1.insert(-3,'e')\n",
    "print(list1)"
   ]
  },
  {
   "cell_type": "code",
   "execution_count": null,
   "metadata": {},
   "outputs": [],
   "source": []
  }
 ],
 "metadata": {
  "kernelspec": {
   "display_name": "base",
   "language": "python",
   "name": "python3"
  },
  "language_info": {
   "codemirror_mode": {
    "name": "ipython",
    "version": 3
   },
   "file_extension": ".py",
   "mimetype": "text/x-python",
   "name": "python",
   "nbconvert_exporter": "python",
   "pygments_lexer": "ipython3",
   "version": "3.10.10"
  },
  "orig_nbformat": 4
 },
 "nbformat": 4,
 "nbformat_minor": 2
}
